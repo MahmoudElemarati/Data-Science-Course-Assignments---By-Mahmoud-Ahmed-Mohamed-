{
 "cells": [
  {
   "cell_type": "markdown",
   "metadata": {},
   "source": [
    "# Assignment - 6\n",
    "## -- Statements Assessment Test"
   ]
  },
  {
   "cell_type": "markdown",
   "metadata": {},
   "source": [
    "`1-` **Use <code>for</code>, .split(), and <code>if</code> to create a Statement that will print out words that start with 's':**"
   ]
  },
  {
   "cell_type": "code",
   "execution_count": null,
   "metadata": {},
   "outputs": [],
   "source": [
    "st = 'Print only the words that start with s in this sentence'"
   ]
  },
  {
   "cell_type": "code",
   "execution_count": null,
   "metadata": {},
   "outputs": [],
   "source": [
    "#Code here\n",
    "list_st = st.split(\" \")\n",
    "for word in list_st:\n",
    "    if word.startswith('s'):\n",
    "        print(word,end=\" \")\n",
    "else:\n",
    "    print(end=\"\\n\")"
   ]
  },
  {
   "cell_type": "markdown",
   "metadata": {},
   "source": [
    "______\n",
    "`2-` **Use range() to print all the even numbers from 0 to 10.**"
   ]
  },
  {
   "cell_type": "code",
   "execution_count": null,
   "metadata": {},
   "outputs": [],
   "source": [
    "#Code Here\n",
    "start = 0\n",
    "end = 10\n",
    "for num in range (start,end+1):\n",
    "    if num%2==0:\n",
    "        print(num)"
   ]
  },
  {
   "cell_type": "markdown",
   "metadata": {},
   "source": [
    "___\n",
    "`3-` **Use a List Comprehension to create a list of all numbers between 1 and 50 that are divisible by 3.**"
   ]
  },
  {
   "cell_type": "code",
   "execution_count": null,
   "metadata": {},
   "outputs": [],
   "source": [
    "#Code in this cell\n",
    "start = 1\n",
    "end = 50\n",
    "numbers = [num for num in range(start,end+1) if num % 3 == 0]\n",
    "print(numbers)"
   ]
  },
  {
   "cell_type": "markdown",
   "metadata": {},
   "source": [
    "_____\n",
    "`4-` **Go through the string below and if the length of a word is even print \"even!\"**"
   ]
  },
  {
   "cell_type": "code",
   "execution_count": null,
   "metadata": {},
   "outputs": [],
   "source": [
    "st = 'Print every word in this sentence that has an even number of letters'"
   ]
  },
  {
   "cell_type": "code",
   "execution_count": null,
   "metadata": {},
   "outputs": [],
   "source": [
    "#Code in this cell\n",
    "list_st = st.split(\" \")\n",
    "for word in list_st:\n",
    "    if len(word)%2==0:\n",
    "        print(\"even!\")"
   ]
  },
  {
   "cell_type": "markdown",
   "metadata": {},
   "source": [
    "____\n",
    "`5-` **Write a program that prints the integers from 1 to 100. But for multiples of three print \"Fizz\" instead of the number, and for the multiples of five print \"Buzz\". For numbers which are multiples of both three and five print \"FizzBuzz\".**"
   ]
  },
  {
   "cell_type": "code",
   "execution_count": null,
   "metadata": {},
   "outputs": [],
   "source": [
    "#Code in this cell\n",
    "start = 1\n",
    "end = 100\n",
    "for num in range (start,end+1):\n",
    "    if num%3==0 and num%5==0:\n",
    "        print(f\"{num} is FizzBuzz\")\n",
    "    elif num%3==0:\n",
    "        print(f\"{num} is Fizz\")\n",
    "    elif num%5==0:\n",
    "        print(f\"{num} is Buzz\")"
   ]
  },
  {
   "cell_type": "markdown",
   "metadata": {},
   "source": [
    "____\n",
    "`6-` **Use List Comprehension to create a list of the first letters of every word in the string below:**"
   ]
  },
  {
   "cell_type": "code",
   "execution_count": null,
   "metadata": {},
   "outputs": [],
   "source": [
    "st = 'Create a list of the first letters of every word in this string'"
   ]
  },
  {
   "cell_type": "code",
   "execution_count": null,
   "metadata": {},
   "outputs": [],
   "source": [
    "#Code in this cell\n",
    "list_st = st.split(\" \")\n",
    "new_words = [word[:1] for word in list_st]\n",
    "new_words"
   ]
  },
  {
   "cell_type": "markdown",
   "metadata": {},
   "source": [
    "____________________________________\n",
    "__________________\n",
    "______________\n",
    "______\n",
    "____________________________________\n",
    "__________________\n",
    "______________\n",
    "______"
   ]
  },
  {
   "cell_type": "markdown",
   "metadata": {},
   "source": [
    "## -- Function Practice Exercises\n",
    "Problems are arranged in increasing difficulty:\n",
    "* Warmup - these can be solved using basic comparisons and methods\n",
    "* Level 1 - these may involve if/then conditional statements and simple methods\n",
    "* Level 2 - these may require iterating over sequences, usually with some kind of loop\n",
    "* Challenging - these will take some creativity to solve"
   ]
  },
  {
   "cell_type": "markdown",
   "metadata": {},
   "source": [
    "## <div style='color: green;'> `1-` WARM-UP SECTION:</div> "
   ]
  },
  {
   "cell_type": "markdown",
   "metadata": {},
   "source": [
    "#### `1.1` LESSER OF TWO EVENS: Write a function that returns the lesser of two given numbers *if* both numbers are even, but returns the greater if one or both numbers are odd\n",
    "    lesser_of_two_evens(2,4) --> 2\n",
    "    lesser_of_two_evens(2,5) --> 5"
   ]
  },
  {
   "cell_type": "code",
   "execution_count": null,
   "metadata": {},
   "outputs": [],
   "source": [
    "def lesser_of_two_evens(a,b):\n",
    "    num = 0\n",
    "    if(a%2==0 and b%2==0):\n",
    "        num = a if a<b else b\n",
    "    else:\n",
    "        num = a if a>b else b\n",
    "    return num"
   ]
  },
  {
   "cell_type": "code",
   "execution_count": null,
   "metadata": {},
   "outputs": [],
   "source": [
    "# Check\n",
    "lesser_of_two_evens(2,4)"
   ]
  },
  {
   "cell_type": "code",
   "execution_count": null,
   "metadata": {},
   "outputs": [],
   "source": [
    "# Check\n",
    "lesser_of_two_evens(2,5)"
   ]
  },
  {
   "cell_type": "markdown",
   "metadata": {},
   "source": [
    "__________\n",
    "#### `1.2`  ANIMAL CRACKERS: Write a function takes a two-word string and returns True if both words begin with same letter\n",
    "    animal_crackers('Levelheaded Llama') --> True\n",
    "    animal_crackers('Crazy Kangaroo') --> False"
   ]
  },
  {
   "cell_type": "code",
   "execution_count": null,
   "metadata": {},
   "outputs": [],
   "source": [
    "def animal_crackers(text):\n",
    "    text_list = text.split(\" \")\n",
    "    if text_list[0][0]== text_list[1][0]:\n",
    "        return True\n",
    "    else:        \n",
    "        return False"
   ]
  },
  {
   "cell_type": "code",
   "execution_count": null,
   "metadata": {},
   "outputs": [],
   "source": [
    "# Check\n",
    "animal_crackers('Levelheaded Llama')"
   ]
  },
  {
   "cell_type": "code",
   "execution_count": null,
   "metadata": {},
   "outputs": [],
   "source": [
    "# Check\n",
    "animal_crackers('Crazy Kangaroo')"
   ]
  },
  {
   "cell_type": "markdown",
   "metadata": {},
   "source": [
    "__________\n",
    "#### `1.3` MAKES TWENTY: Given two integers, return True if the sum of the integers is 20 *or* if one of the integers is 20. If not, return False\n",
    "\n",
    "    makes_twenty(20,10) --> True\n",
    "    makes_twenty(12,8) --> True\n",
    "    makes_twenty(2,3) --> False"
   ]
  },
  {
   "cell_type": "code",
   "execution_count": null,
   "metadata": {},
   "outputs": [],
   "source": [
    "def makes_twenty(n1,n2):\n",
    "    if(n1==20 or n2==20 or n1+n2==20):\n",
    "        return True\n",
    "    else:\n",
    "        return False\n",
    "    pass"
   ]
  },
  {
   "cell_type": "code",
   "execution_count": null,
   "metadata": {},
   "outputs": [],
   "source": [
    "# Check\n",
    "makes_twenty(20,10)"
   ]
  },
  {
   "cell_type": "code",
   "execution_count": null,
   "metadata": {},
   "outputs": [],
   "source": [
    "# Check\n",
    "makes_twenty(12,8)"
   ]
  },
  {
   "cell_type": "code",
   "execution_count": null,
   "metadata": {},
   "outputs": [],
   "source": [
    "# Check\n",
    "makes_twenty(2,3)"
   ]
  },
  {
   "cell_type": "markdown",
   "metadata": {},
   "source": [
    "## <div style='color: #c6c600;'> `2-` LEVEL 1 PROBLEMS</div> "
   ]
  },
  {
   "cell_type": "markdown",
   "metadata": {},
   "source": [
    "#### `2.1` OLD MACDONALD: Write a function that capitalizes the first and fourth letters of a name\n",
    "     \n",
    "    old_macdonald('macdonald') --> MacDonald\n",
    "    \n",
    "Note: `'macdonald'.capitalize()` returns `'Macdonald'`"
   ]
  },
  {
   "cell_type": "code",
   "execution_count": null,
   "metadata": {},
   "outputs": [],
   "source": [
    "def old_macdonald(name):\n",
    "    new_words = [name[i].upper() if i==0 or i==4-1 else name[i] for i in range(len(name)) ]\n",
    "    new_words = \"\".join(new_words)\n",
    "    return new_words"
   ]
  },
  {
   "cell_type": "code",
   "execution_count": null,
   "metadata": {},
   "outputs": [],
   "source": [
    "# Check\n",
    "old_macdonald('macdonald')"
   ]
  },
  {
   "cell_type": "markdown",
   "metadata": {},
   "source": [
    "__________\n",
    "#### `2.2` MASTER YODA: Given a sentence, return a sentence with the words reversed\n",
    "\n",
    "    master_yoda('I am home') --> 'home am I'\n",
    "    master_yoda('We are ready') --> 'ready are We'\n",
    "    \n",
    "Note: The .join() method may be useful here. The .join() method allows you to join together strings in a list with some connector string. For example, some uses of the .join() method:\n",
    "\n",
    "    >>> \"--\".join(['a','b','c'])\n",
    "    >>> 'a--b--c'\n",
    "\n",
    "This means if you had a list of words you wanted to turn back into a sentence, you could just join them with a single space string:\n",
    "\n",
    "    >>> \" \".join(['Hello','world'])\n",
    "    >>> \"Hello world\""
   ]
  },
  {
   "cell_type": "code",
   "execution_count": null,
   "metadata": {},
   "outputs": [],
   "source": [
    "def master_yoda(text):\n",
    "    text_list = text.split(\" \")\n",
    "    text_list = \" \".join(text_list[-1::-1])\n",
    "    return text_list"
   ]
  },
  {
   "cell_type": "code",
   "execution_count": null,
   "metadata": {},
   "outputs": [],
   "source": [
    "# Check\n",
    "master_yoda('I am home')"
   ]
  },
  {
   "cell_type": "code",
   "execution_count": null,
   "metadata": {},
   "outputs": [],
   "source": [
    "# Check\n",
    "master_yoda('We are ready')"
   ]
  },
  {
   "cell_type": "markdown",
   "metadata": {},
   "source": [
    "__________\n",
    "#### `2.3`  ALMOST THERE: Given an integer n, return True if n is within 10 of either 100 or 200\n",
    "\n",
    "    almost_there(90) --> True\n",
    "    almost_there(104) --> True\n",
    "    almost_there(150) --> False\n",
    "    almost_there(209) --> True\n",
    "    \n",
    "NOTE: `abs(num)` returns the absolute value of a number"
   ]
  },
  {
   "cell_type": "code",
   "execution_count": null,
   "metadata": {},
   "outputs": [],
   "source": [
    "def almost_there(n):\n",
    "    if abs(100-n) <= 10 or abs(200-n) <= 10:\n",
    "        return True\n",
    "    else:\n",
    "        return False"
   ]
  },
  {
   "cell_type": "code",
   "execution_count": null,
   "metadata": {},
   "outputs": [],
   "source": [
    "# Check\n",
    "almost_there(104)"
   ]
  },
  {
   "cell_type": "code",
   "execution_count": null,
   "metadata": {},
   "outputs": [],
   "source": [
    "# Check\n",
    "almost_there(150)"
   ]
  },
  {
   "cell_type": "code",
   "execution_count": null,
   "metadata": {},
   "outputs": [],
   "source": [
    "# Check\n",
    "almost_there(209)"
   ]
  },
  {
   "cell_type": "markdown",
   "metadata": {},
   "source": [
    "## <div style='color: orange;'> `3-` LEVEL 2 PROBLEMS</div> "
   ]
  },
  {
   "cell_type": "markdown",
   "metadata": {},
   "source": [
    "#### `3.1` FIND 33: \n",
    "\n",
    "Given a list of ints, return True if the array contains a 3 next to a 3 somewhere.\n",
    "\n",
    "    has_33([1, 3, 3]) → True\n",
    "    has_33([1, 3, 1, 3]) → False\n",
    "    has_33([3, 1, 3]) → False"
   ]
  },
  {
   "cell_type": "code",
   "execution_count": null,
   "metadata": {},
   "outputs": [],
   "source": [
    "def has_33(nums):\n",
    "    for i in range(len(nums)-1):\n",
    "        if nums[i]==nums[i+1]:\n",
    "            return True\n",
    "    else:\n",
    "        return False"
   ]
  },
  {
   "cell_type": "code",
   "execution_count": null,
   "metadata": {},
   "outputs": [],
   "source": [
    "# Check\n",
    "has_33([1, 3, 3])"
   ]
  },
  {
   "cell_type": "code",
   "execution_count": null,
   "metadata": {},
   "outputs": [],
   "source": [
    "# Check\n",
    "has_33([1, 3, 1, 3])"
   ]
  },
  {
   "cell_type": "code",
   "execution_count": null,
   "metadata": {},
   "outputs": [],
   "source": [
    "# Check\n",
    "has_33([3, 1, 3])"
   ]
  },
  {
   "cell_type": "code",
   "execution_count": null,
   "metadata": {},
   "outputs": [],
   "source": [
    "has_33([1,3,2,5,6,4,3,3,2,4])"
   ]
  },
  {
   "cell_type": "markdown",
   "metadata": {},
   "source": [
    "#### `3.2` FIND 33 (**BONUS**): \n",
    "\n",
    "Given a list of ints, return True if the array contains a 3 next to a 3 somewhere. and first two index located on\n",
    "\n",
    "    has_33([1, 3, 3]) → True\n",
    "    has_33([1, 3, 1, 3]) → False\n",
    "    has_33([3, 1, 3]) → False"
   ]
  },
  {
   "cell_type": "code",
   "execution_count": null,
   "metadata": {},
   "outputs": [],
   "source": [
    "def has_33(nums):\n",
    "    for i in range(len(nums)-1):\n",
    "        if nums[i]==nums[i+1]:\n",
    "            print(f\"First (3) founded at index : {i} , and next one at index : {i+1}\")\n",
    "            return True\n",
    "    else:\n",
    "        return False"
   ]
  },
  {
   "cell_type": "code",
   "execution_count": null,
   "metadata": {},
   "outputs": [],
   "source": [
    "# Check\n",
    "has_33([1, 3, 3])"
   ]
  },
  {
   "cell_type": "code",
   "execution_count": null,
   "metadata": {},
   "outputs": [],
   "source": [
    "# Check\n",
    "has_33([1, 3, 1, 3])"
   ]
  },
  {
   "cell_type": "code",
   "execution_count": null,
   "metadata": {},
   "outputs": [],
   "source": [
    "# Check\n",
    "has_33([3, 1, 3])"
   ]
  },
  {
   "cell_type": "code",
   "execution_count": null,
   "metadata": {},
   "outputs": [],
   "source": [
    "has_33([1,3,2,5,6,4,3,3,2,4])"
   ]
  },
  {
   "cell_type": "markdown",
   "metadata": {},
   "source": [
    "__________\n",
    "#### `3.3` PAPER DOLL: Given a string, return a string where for every character in the original there are three characters\n",
    "    paper_doll('Hello') --> 'HHHeeellllllooo'\n",
    "    paper_doll('Mississippi') --> 'MMMiiissssssiiippppppiii'"
   ]
  },
  {
   "cell_type": "code",
   "execution_count": null,
   "metadata": {},
   "outputs": [],
   "source": [
    "def paper_doll(text):\n",
    "    return \"\".join([char*3 for char in text])"
   ]
  },
  {
   "cell_type": "code",
   "execution_count": null,
   "metadata": {},
   "outputs": [],
   "source": [
    "# Check\n",
    "paper_doll('Hello')"
   ]
  },
  {
   "cell_type": "code",
   "execution_count": null,
   "metadata": {},
   "outputs": [],
   "source": [
    "# Check\n",
    "paper_doll('Mississippi')"
   ]
  },
  {
   "cell_type": "markdown",
   "metadata": {},
   "source": [
    "__________\n",
    "#### `3.4` BLACKJACK: Given three integers between 1 and 11, if their sum is less than or equal to 21, return their sum. If their sum exceeds 21 *and* there's an eleven, reduce the total sum by 10. Finally, if the sum (even after adjustment) exceeds 21, return 'BUST'\n",
    "    blackjack(5,6,7) --> 18\n",
    "    blackjack(9,9,9) --> 'BUST'\n",
    "    blackjack(9,9,11) --> 19"
   ]
  },
  {
   "cell_type": "code",
   "execution_count": null,
   "metadata": {},
   "outputs": [],
   "source": [
    "def blackjack(a,b,c):\n",
    "    summation = a + b + c\n",
    "    if summation<=21:\n",
    "        return summation\n",
    "    elif summation>21 and (a == 11 or b == 11 or c == 11):\n",
    "        return summation-10\n",
    "    else:\n",
    "        return 'BUST'\n",
    "    pass"
   ]
  },
  {
   "cell_type": "code",
   "execution_count": null,
   "metadata": {},
   "outputs": [],
   "source": [
    "# Check\n",
    "blackjack(5,6,7)"
   ]
  },
  {
   "cell_type": "code",
   "execution_count": null,
   "metadata": {},
   "outputs": [],
   "source": [
    "# Check\n",
    "blackjack(9,9,9)"
   ]
  },
  {
   "cell_type": "code",
   "execution_count": null,
   "metadata": {},
   "outputs": [],
   "source": [
    "# Check\n",
    "blackjack(9,9,11)"
   ]
  },
  {
   "cell_type": "markdown",
   "metadata": {},
   "source": [
    "__________\n",
    "#### `3.5` SUMMER OF '69: Return the sum of the numbers in the array, except ignore sections of numbers starting with a 6 and extending to the next 9 (every 6 will be followed by at least one 9). Return 0 for no numbers.\n",
    " \n",
    "    summer_69([1, 3, 5]) --> 9\n",
    "    summer_69([4, 5, 6, 7, 8, 9]) --> 9\n",
    "    summer_69([2, 1, 6, 9, 11]) --> 14"
   ]
  },
  {
   "cell_type": "code",
   "execution_count": null,
   "metadata": {},
   "outputs": [],
   "source": [
    "def summer_69(arr):\n",
    "    summation = 0\n",
    "    flag = True\n",
    "    for elem in arr:\n",
    "        if elem == 9 and flag == False:\n",
    "            flag = True\n",
    "            continue\n",
    "        elif elem == 6 and flag == True:\n",
    "            flag = False\n",
    "            continue\n",
    "        summation = summation + elem if flag else (summation + 0)\n",
    "    return summation"
   ]
  },
  {
   "cell_type": "code",
   "execution_count": null,
   "metadata": {},
   "outputs": [],
   "source": [
    "# Check\n",
    "summer_69([1, 3, 5])"
   ]
  },
  {
   "cell_type": "code",
   "execution_count": null,
   "metadata": {},
   "outputs": [],
   "source": [
    "# Check\n",
    "summer_69([4, 5, 6, 7, 8, 9])"
   ]
  },
  {
   "cell_type": "code",
   "execution_count": null,
   "metadata": {},
   "outputs": [],
   "source": [
    "# Check\n",
    "summer_69([2, 1, 6, 9, 11])"
   ]
  },
  {
   "cell_type": "code",
   "execution_count": null,
   "metadata": {},
   "outputs": [],
   "source": [
    "# Check\n",
    "summer_69([6, 9, 6, 9, 6,5])"
   ]
  },
  {
   "cell_type": "markdown",
   "metadata": {},
   "source": [
    "## <div style='color: red;'> `4-` CHALLENGING PROBLEMS</div> "
   ]
  },
  {
   "cell_type": "markdown",
   "metadata": {},
   "source": [
    "#### `4.1` SPY GAME: Write a function that takes in a list of integers and returns True if it contains 007 in order\n",
    "\n",
    "     spy_game([1,2,4,0,0,7,5]) --> True\n",
    "     spy_game([1,0,2,4,0,5,7]) --> True\n",
    "     spy_game([1,7,2,0,4,5,0]) --> False\n"
   ]
  },
  {
   "cell_type": "code",
   "execution_count": null,
   "metadata": {},
   "outputs": [],
   "source": [
    "def spy_game(nums):\n",
    "    num_temp = \"\"\n",
    "    for num in nums:\n",
    "        if num == 0 or num == 7:\n",
    "            num_temp+=str(num)\n",
    "            \n",
    "    if len(num_temp)==0 or ('007' not in num_temp):\n",
    "        return False\n",
    "    else:\n",
    "        return True"
   ]
  },
  {
   "cell_type": "code",
   "execution_count": null,
   "metadata": {},
   "outputs": [],
   "source": [
    "# Check\n",
    "spy_game([1,2,4,0,0,7,5])"
   ]
  },
  {
   "cell_type": "code",
   "execution_count": null,
   "metadata": {},
   "outputs": [],
   "source": [
    "# Check\n",
    "spy_game([1,0,2,4,0,5,7])"
   ]
  },
  {
   "cell_type": "code",
   "execution_count": null,
   "metadata": {
    "scrolled": true
   },
   "outputs": [],
   "source": [
    "# Check\n",
    "spy_game([1,7,2,0,4,5,0])"
   ]
  },
  {
   "cell_type": "code",
   "execution_count": null,
   "metadata": {
    "scrolled": true
   },
   "outputs": [],
   "source": [
    "# Check\n",
    "spy_game([1,7,2,0,4,5,0,0,0,0,7,7,0,0,7,0,7,0])"
   ]
  },
  {
   "cell_type": "markdown",
   "metadata": {},
   "source": [
    "__________\n",
    "#### `4.2` COUNT PRIMES: Write a function that returns the *number* of prime numbers that exist up to and including a given number\n",
    "    count_primes(100) --> 25\n",
    "\n",
    "By convention, 0 and 1 are not prime."
   ]
  },
  {
   "cell_type": "code",
   "execution_count": null,
   "metadata": {},
   "outputs": [],
   "source": [
    "def is_prime(num):\n",
    "    for i in range(2,num):\n",
    "        if num%i==0:\n",
    "            return False\n",
    "    else:\n",
    "        return True;\n",
    "    \n",
    "def count_primes(num):\n",
    "    count = 0\n",
    "    for i in range(2,num):\n",
    "        if is_prime(i):\n",
    "            count+=1\n",
    "    return count\n"
   ]
  },
  {
   "cell_type": "code",
   "execution_count": null,
   "metadata": {},
   "outputs": [],
   "source": [
    "# Check\n",
    "count_primes(100)"
   ]
  },
  {
   "cell_type": "markdown",
   "metadata": {},
   "source": [
    "__________\n",
    "### Just for fun:\n",
    "#### `4.3` PRINT BIG: Write a function that takes in a single letter, and returns a 5x5 representation of that letter\n",
    "    print_big('a')\n",
    "    \n",
    "    out:   *  \n",
    "          * *\n",
    "         *****\n",
    "         *   *\n",
    "         *   *\n",
    "HINT: Consider making a dictionary of possible patterns, and mapping the alphabet to specific 5-line combinations of patterns. <br>For purposes of this exercise, it's ok if your dictionary stops at \"E\"."
   ]
  },
  {
   "cell_type": "code",
   "execution_count": 33,
   "metadata": {},
   "outputs": [],
   "source": [
    "def print_big(letter):\n",
    "    patterns = {1:'  *  ',2:' * * ',3:'*   *',4:'*****',5:'**** ',6:'   * ',7:' *   ',8:'*   * ',9:'*    '}\n",
    "    alpha = {\n",
    "        'A':[1,2,4,3,3],\n",
    "        'B':[5,3,5,3,5],\n",
    "        'C':[4,9,9,9,4],\n",
    "        'D':[5,3,3,3,5],\n",
    "        'E':[4,9,4,9,4]\n",
    "    }\n",
    "    for pattern in alpha[letter.upper()]:\n",
    "        print(patterns[pattern])\n",
    "        \n"
   ]
  },
  {
   "cell_type": "code",
   "execution_count": 34,
   "metadata": {},
   "outputs": [
    {
     "name": "stdout",
     "output_type": "stream",
     "text": [
      "**** \n",
      "*   *\n",
      "**** \n",
      "*   *\n",
      "**** \n"
     ]
    }
   ],
   "source": [
    "print_big('B')"
   ]
  },
  {
   "cell_type": "code",
   "execution_count": 56,
   "metadata": {},
   "outputs": [],
   "source": [
    "patterns = {\n",
    "            ### For Space\n",
    "            0:'     ',            \n",
    "    \n",
    "            ### Characters of Width 5 digits\n",
    "            1:'  *  ' ,\n",
    "            2:' * * ' ,\n",
    "            3:'*   *' ,\n",
    "            4:'*****' ,\n",
    "            5:'**** ' ,\n",
    "            6:'   * ' ,\n",
    "            7:' *   ' ,\n",
    "            8:'*   * ',\n",
    "            9:'*    ' ,\n",
    "            10:'    *',\n",
    "            15:' *** ',\n",
    "            16:' ****',\n",
    "            17:'*  * ',\n",
    "            18:'***  ',\n",
    "    \n",
    "            ### Characters of Width 6 digits\n",
    "            31:' **** ',\n",
    "            32:'*    *',\n",
    "            33:'   *  ',\n",
    "            34:' *    ',\n",
    "            35:'******',\n",
    "            36:'***** ',\n",
    "            37:'     *',\n",
    "            ### Characters of Width 7 digits\n",
    "            11:'*******',\n",
    "            12:'*  ****',\n",
    "            13:'*     *',\n",
    "            14:'*      ',\n",
    "            19:'* * * *',\n",
    "            20:'*  *  *',\n",
    "            21:'* *   *',\n",
    "            22:'*   * *',\n",
    "            27:' *   * ',\n",
    "            28:'  * *  ',\n",
    "            29:'  ***  ',\n",
    "            30:'   *   ',\n",
    "            38:'      *',\n",
    "            ### Characters of Width 10 digits\n",
    "            23:'  ****    ',\n",
    "            24:' *    *   ',\n",
    "            25:'*   ** *  ',\n",
    "            26:'  ****  **'\n",
    "        }\n",
    "\n",
    "new_symbol = \"\"\n",
    "def ____change_symbol_____(symbol):\n",
    "    char = new_symbol if symbol == \"*\" else symbol\n",
    "    return char\n",
    "\n",
    "def Print_Big(string=\"a\",symbol=\"*\",spacing=\" \"):\n",
    "    global new_symbol\n",
    "    new_symbol = symbol[0]\n",
    "    \n",
    "    ### Applying patterns On Using Passed Symbol ###   \n",
    "    global patterns\n",
    "    patterns_temp = {}\n",
    "    for k,v in patterns.items():\n",
    "        new_pattern = \"\".join(list(map(____change_symbol_____,v)))\n",
    "        patterns_temp[k]=new_pattern\n",
    "    patterns = patterns_temp\n",
    "    ################################################  \n",
    "    \n",
    "    ################# Alpha Designs ################\n",
    "    alpha = {  \n",
    "            'A':[1,2,4,3,3],\n",
    "            'B':[5,3,5,3,5],\n",
    "            'C':[4,9,9,9,4],\n",
    "            'D':[5,3,3,3,5],\n",
    "            'E':[4,9,4,9,4],\n",
    "            'F':[4,9,4,9,9],\n",
    "            'G':[11,14,12,13,11],\n",
    "            'H':[3,3,4,3,3],\n",
    "            'I':[4,1,1,1,4],\n",
    "            'J':[16,10,10,3,15],\n",
    "            'K':[3,17,18,17,3],\n",
    "            'L':[9,9,9,9,4],\n",
    "            'M':[13,19,20,20,20],\n",
    "            'N':[13,21,20,22,13],\n",
    "            'O':[15,3,3,3,15],\n",
    "            'P':[5,3,5,9,9],\n",
    "            'Q':[23,24,25,24,26],\n",
    "            'R':[5,3,18,17,3],\n",
    "            'S':[4,9,4,10,4],\n",
    "            'T':[4,1,1,1,1],\n",
    "            'U':[3,3,3,3,4],\n",
    "            'V':[13,27,28,29,30],\n",
    "            'W':[20,20,20,19,13],\n",
    "            'X':[3,2,1,2,3],\n",
    "            'Y':[3,2,1,1,1],\n",
    "            'Z':[4,6,1,7,4],\n",
    "        \n",
    "            #### Numbers\n",
    "            '1':[18,1,1,1,4],\n",
    "            '2':[31,32,33,34,35],\n",
    "            '3':[36,37,36,37,36],\n",
    "            '4':[13,13,11,38,38],\n",
    "            '5':[4,9,5,10,5],\n",
    "            '6':[4,9,4,3,4],\n",
    "            '7':[4,6,1,7,9],\n",
    "            '8':[4,3,4,3,4],\n",
    "            '9':[4,3,4,10,4],\n",
    "            '0':[4,3,3,3,4],\n",
    "        \n",
    "            #### Special Characters\n",
    "            ' ':[0,0,0,0,0],\n",
    "            '-':[0,0,4,0,0],\n",
    "            '_':[0,0,0,0,4],\n",
    "            '+':[1,1,4,1,1]\n",
    "            }\n",
    "    ################################################  \n",
    "\n",
    "    #################      Draw     ################\n",
    "    for i in range(len(alpha['a'.upper()])):  \n",
    "        for j in range(len(string)):       \n",
    "            print(patterns[alpha[string[j].upper()][i]],end = spacing)\n",
    "        print()\n",
    "    ################################################  "
   ]
  },
  {
   "cell_type": "code",
   "execution_count": 57,
   "metadata": {},
   "outputs": [
    {
     "name": "stdout",
     "output_type": "stream",
     "text": [
      "&&&&&           &        &&&    &     &   &&&&&           &&&&    &   &   &&&&&   &   &    &&&    &     &           &&&&&    \n",
      "  &             &       &   &    &   &    &               &   &    & &      &     &   &   &   &   & &   &                &   \n",
      "  &             &       &   &     & &     &&&&&           &&&&      &       &     &&&&&   &   &   &  &  &   &&&&&   &&&&&    \n",
      "  &             &       &   &     &&&     &               &         &       &     &   &   &   &   &   & &                &   \n",
      "&&&&&           &&&&&    &&&       &      &&&&&           &         &       &     &   &    &&&    &     &           &&&&&    \n"
     ]
    }
   ],
   "source": [
    "Print_Big2('I Love Python-3' ,'&','   ')"
   ]
  },
  {
   "cell_type": "code",
   "execution_count": null,
   "metadata": {},
   "outputs": [],
   "source": []
  }
 ],
 "metadata": {
  "kernelspec": {
   "display_name": "Python 3",
   "language": "python",
   "name": "python3"
  },
  "language_info": {
   "codemirror_mode": {
    "name": "ipython",
    "version": 3
   },
   "file_extension": ".py",
   "mimetype": "text/x-python",
   "name": "python",
   "nbconvert_exporter": "python",
   "pygments_lexer": "ipython3",
   "version": "3.8.3"
  }
 },
 "nbformat": 4,
 "nbformat_minor": 4
}
