{
 "cells": [
  {
   "cell_type": "markdown",
   "metadata": {},
   "source": [
    "# Assignment - 9"
   ]
  },
  {
   "cell_type": "markdown",
   "metadata": {},
   "source": [
    "`1-` Make a package called **'my_packages'** that contains **2 packages** <br> \n",
    "**first one called Transformers** <br>\n",
    "and <br>\n",
    "**second one called Operations**<br>\n",
    "_____________________________________________________________\n",
    "<h1>in Transformers package make</h1> <br>\n",
    "<ul>\n",
    "    <li>a module called StringTransformer that has 2 functions:\n",
    "        <ol>\n",
    "            <li> one to reverse a string</li>\n",
    "            <li> second one to capitalize a string</li>\n",
    "        </ol>\n",
    "    </li> \n",
    "</ul>\n",
    "<br>\n",
    "_________________________________________________________________\n",
    "<h1>in Operations package make</h1> <br>\n",
    "<ul>\n",
    "    <li>a module called Math that has 1 function:\n",
    "        <ol>\n",
    "            <li> called get_average to get average of list values</li>\n",
    "        </ol>\n",
    "    </li> \n",
    "</ul>\n",
    "________________________________________________________________\n",
    "<br>\n",
    "then make a notebook to use these functions."
   ]
  },
  {
   "cell_type": "code",
   "execution_count": 1,
   "metadata": {},
   "outputs": [],
   "source": [
    "from my_packages.Transformers import StringTransformer as stf\n",
    "from my_packages.Operations import Math"
   ]
  },
  {
   "cell_type": "code",
   "execution_count": 2,
   "metadata": {},
   "outputs": [
    {
     "data": {
      "text/plain": [
       "'itaramelE duomhaM'"
      ]
     },
     "execution_count": 2,
     "metadata": {},
     "output_type": "execute_result"
    }
   ],
   "source": [
    "stf.reverse_str(\"Mahmoud Elemarati\")"
   ]
  },
  {
   "cell_type": "code",
   "execution_count": 3,
   "metadata": {},
   "outputs": [
    {
     "data": {
      "text/plain": [
       "'MAHMOUD ELEMARATI'"
      ]
     },
     "execution_count": 3,
     "metadata": {},
     "output_type": "execute_result"
    }
   ],
   "source": [
    "stf.capitalize_str(\"Mahmoud Elemarati\")"
   ]
  },
  {
   "cell_type": "code",
   "execution_count": 4,
   "metadata": {},
   "outputs": [
    {
     "data": {
      "text/plain": [
       "30.0"
      ]
     },
     "execution_count": 4,
     "metadata": {},
     "output_type": "execute_result"
    }
   ],
   "source": [
    "Math.get_average([10,20,30,40,50])"
   ]
  }
 ],
 "metadata": {
  "kernelspec": {
   "display_name": "Python 3",
   "language": "python",
   "name": "python3"
  },
  "language_info": {
   "codemirror_mode": {
    "name": "ipython",
    "version": 3
   },
   "file_extension": ".py",
   "mimetype": "text/x-python",
   "name": "python",
   "nbconvert_exporter": "python",
   "pygments_lexer": "ipython3",
   "version": "3.8.3"
  }
 },
 "nbformat": 4,
 "nbformat_minor": 4
}
