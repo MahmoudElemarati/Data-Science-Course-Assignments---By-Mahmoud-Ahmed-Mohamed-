{
 "cells": [
  {
   "cell_type": "markdown",
   "metadata": {},
   "source": [
    "# Assignment - 8\n",
    "## -- Quiz"
   ]
  },
  {
   "cell_type": "markdown",
   "metadata": {},
   "source": [
    "`1-` **Make project containing different types of files (jpg, png, mp3, txt, avi, mp4, pdf, etc..) then read all files and rename these files with random names except for jpg & mp3 they will stay with no changes.**"
   ]
  },
  {
   "cell_type": "code",
   "execution_count": 1,
   "metadata": {},
   "outputs": [],
   "source": [
    "import os\n",
    "import random\n",
    "import string"
   ]
  },
  {
   "cell_type": "code",
   "execution_count": 2,
   "metadata": {},
   "outputs": [],
   "source": [
    "## function to get content of file\n",
    "def get_file_content(path):\n",
    "    return os.listdir(path)\n",
    "\n",
    "## All alpha in lower and upper cases\n",
    "list_alpa = list(string.ascii_lowercase)\n",
    "list_alpa+=list(string.ascii_uppercase)\n",
    "\n",
    "## Randomize nameing function\n",
    "def get_random_name(naming_length=1): \n",
    "    global list_alpa\n",
    "    name = \"\"\n",
    "    name_len = random.randint(1,naming_length)\n",
    "    for i in range(name_len):\n",
    "        name+=random.choice(list_alpa)\n",
    "    return name\n",
    "\n",
    "def rename_file(file_name):\n",
    "    extention = file_name.split('.')[-1]\n",
    "    new_name = f\"{get_random_name(10)}.{extention}\"\n",
    "    return new_name"
   ]
  },
  {
   "cell_type": "code",
   "execution_count": 3,
   "metadata": {},
   "outputs": [
    {
     "data": {
      "text/plain": [
       "'nd'"
      ]
     },
     "execution_count": 3,
     "metadata": {},
     "output_type": "execute_result"
    }
   ],
   "source": [
    "get_random_name(10)"
   ]
  },
  {
   "cell_type": "code",
   "execution_count": 4,
   "metadata": {},
   "outputs": [
    {
     "data": {
      "text/plain": [
       "'wtLEf.avi'"
      ]
     },
     "execution_count": 4,
     "metadata": {},
     "output_type": "execute_result"
    }
   ],
   "source": [
    "rename_file('Ahmed.avi')"
   ]
  },
  {
   "cell_type": "code",
   "execution_count": 5,
   "metadata": {},
   "outputs": [
    {
     "data": {
      "text/plain": [
       "['01-ant-man.png',\n",
       " '02-dr-strang.png',\n",
       " '03-hawk-eye.png',\n",
       " '04-hulk.png',\n",
       " '05-spider-man.png',\n",
       " '06-black-widow.jpg',\n",
       " '07-captain-america.jpg',\n",
       " '08-ironMan.jpg',\n",
       " '09-thor.jpg',\n",
       " '10-thanos.jpg',\n",
       " '11-apex season 6.mp3',\n",
       " '12-la case de babel.mp3',\n",
       " '13-the-end-serice.mp3',\n",
       " '14-violen.mp3',\n",
       " '15-codeator.mp4',\n",
       " '16-intro.mp4',\n",
       " '17-The _Java Life.mp4',\n",
       " '18-python-1.txt',\n",
       " '19-python-2.txt',\n",
       " '20-python-3.txt',\n",
       " '21-python-4.txt',\n",
       " '22-Database Design.pdf',\n",
       " '23-res.pdf',\n",
       " '24-earth.avi',\n",
       " '25-sea.avi']"
      ]
     },
     "execution_count": 5,
     "metadata": {},
     "output_type": "execute_result"
    }
   ],
   "source": [
    "path = \"work_on_universe\"\n",
    "path_contents_list = get_file_content(path)\n",
    "path_contents_list"
   ]
  },
  {
   "cell_type": "code",
   "execution_count": 6,
   "metadata": {},
   "outputs": [
    {
     "name": "stdout",
     "output_type": "stream",
     "text": [
      "Renaming Done ....!\n"
     ]
    }
   ],
   "source": [
    "## List of Extention that not aloowed to be renamed\n",
    "exception_renaming_extention_list = ['jpg','mp3']\n",
    "\n",
    "for file_name in path_contents_list:\n",
    "    if file_name.split('.')[-1] not in exception_renaming_extention_list:\n",
    "        file_name_new = rename_file(file_name)\n",
    "        os.rename(f\"{path}/{file_name}\",f\"{path}/{file_name_new}\")\n",
    "print(\"Renaming Done ....!\")"
   ]
  },
  {
   "cell_type": "code",
   "execution_count": 7,
   "metadata": {},
   "outputs": [
    {
     "data": {
      "text/plain": [
       "['06-black-widow.jpg',\n",
       " '07-captain-america.jpg',\n",
       " '08-ironMan.jpg',\n",
       " '09-thor.jpg',\n",
       " '10-thanos.jpg',\n",
       " '11-apex season 6.mp3',\n",
       " '12-la case de babel.mp3',\n",
       " '13-the-end-serice.mp3',\n",
       " '14-violen.mp3',\n",
       " 'DOFKqODGhY.avi',\n",
       " 'DskY.pdf',\n",
       " 'dUGKmEwGxi.png',\n",
       " 'EnViYnN.txt',\n",
       " 'FS.txt',\n",
       " 'GJHAHuGKd.png',\n",
       " 'IhPMU.txt',\n",
       " 'lM.txt',\n",
       " 'Mb.png',\n",
       " 'mIKpbeNd.mp4',\n",
       " 'NkiB.pdf',\n",
       " 'pR.png',\n",
       " 'VUW.mp4',\n",
       " 'W.mp4',\n",
       " 'wxMiM.avi',\n",
       " 'yuVEIMHZpK.png']"
      ]
     },
     "execution_count": 7,
     "metadata": {},
     "output_type": "execute_result"
    }
   ],
   "source": [
    "path_contents_list = get_file_content(path)\n",
    "path_contents_list"
   ]
  }
 ],
 "metadata": {
  "kernelspec": {
   "display_name": "Python 3",
   "language": "python",
   "name": "python3"
  },
  "language_info": {
   "codemirror_mode": {
    "name": "ipython",
    "version": 3
   },
   "file_extension": ".py",
   "mimetype": "text/x-python",
   "name": "python",
   "nbconvert_exporter": "python",
   "pygments_lexer": "ipython3",
   "version": "3.8.3"
  }
 },
 "nbformat": 4,
 "nbformat_minor": 4
}
